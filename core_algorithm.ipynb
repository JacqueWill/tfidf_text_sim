{
 "cells": [
  {
   "cell_type": "code",
   "execution_count": null,
   "metadata": {},
   "outputs": [],
   "source": [
    "from files import read_training_data, read_test_data, read_val_data\n",
    "\n",
    "\n",
    "df_train = read_training_data()\n",
    "df_test = read_test_data()\n",
    "df_val = read_val_data()"
   ]
  },
  {
   "cell_type": "code",
   "execution_count": null,
   "metadata": {},
   "outputs": [],
   "source": [
    "from pre_process import under_sample, encode_label"
   ]
  },
  {
   "cell_type": "code",
   "execution_count": null,
   "metadata": {},
   "outputs": [],
   "source": [
    "df_train, df_test, df_val = encode_label(\n",
    "        df_train=df_train,\n",
    "        df_test=df_test,\n",
    "        df_val=df_val,\n",
    "        source_label=\"l1\",\n",
    "        new_label_name=\"label_l1\",\n",
    "    )"
   ]
  },
  {
   "cell_type": "code",
   "execution_count": null,
   "metadata": {},
   "outputs": [],
   "source": [
    "import numpy as np\n",
    "import tensorflow as tf\n",
    "import keras_tuner as kt\n",
    "\n",
    "print('loading embeddings')\n",
    "train_embeddings = np.load('under_sampled_embeddings.npy')\n",
    "test_embeddings = np.load('test_embeddings.npy')\n",
    "val_embeddings = np.load('val_embeddings.npy')\n",
    "\n",
    "print('checkpoint 5: getting labels')\n",
    "y_train = df_train[\"label_l1\"]\n",
    "y_test = df_test[\"label_l1\"]\n",
    "y_val = df_val['label_l1']\n",
    "\n",
    "y_train_one_hot = tf.one_hot(y_train, 9)\n",
    "y_test_one_hot = tf.one_hot(y_test, 9)\n",
    "y_val_one_hot = tf.one_hot(y_val, 9)"
   ]
  },
  {
   "cell_type": "code",
   "execution_count": null,
   "metadata": {},
   "outputs": [],
   "source": [
    "print(train_embeddings.shape)"
   ]
  },
  {
   "cell_type": "code",
   "execution_count": null,
   "metadata": {},
   "outputs": [],
   "source": [
    "def build_model(hp):\n",
    "    inputs = tf.keras.Input(shape=(768,))\n",
    "    units = hp.Int('units', min_value=10, max_value=600, step=20)\n",
    "    x = tf.keras.layers.Dense(units = units, activation=tf.nn.relu)(inputs)\n",
    "    outputs = tf.keras.layers.Dense(9, activation=tf.nn.softmax)(x)\n",
    "    model = tf.keras.Model(inputs=inputs, outputs=outputs)\n",
    "    \n",
    "    hp_learning_rate = hp.Choice('learning_rate', values=[1e-2, 1e-3, 1e-4])\n",
    "\n",
    "    \n",
    "    model.compile(\n",
    "            optimizer=tf.keras.optimizers.Adam(learning_rate=hp_learning_rate),\n",
    "            loss='categorical_crossentropy',\n",
    "            metrics=['accuracy'])\n",
    "    \n",
    "    return model"
   ]
  },
  {
   "cell_type": "code",
   "execution_count": null,
   "metadata": {},
   "outputs": [],
   "source": [
    "# tuner = kt.Hyperband(build_model,\n",
    "#                      objective='val_accuracy',\n",
    "#                      max_epochs=10,\n",
    "#                      factor=3,\n",
    "#                      directory='my_dir',\n",
    "#                      project_name='kdd_2')"
   ]
  },
  {
   "cell_type": "code",
   "execution_count": null,
   "metadata": {},
   "outputs": [],
   "source": [
    "hp = kt.HyperParameters()\n",
    "hp.values[\"model_type\"] = \"cnn\"\n",
    "# Build the model using the `HyperParameters`.\n",
    "model = build_model(hp)\n",
    "# Print a summary of the model.\n",
    "model.summary()\n",
    "\n",
    "# Do the same for MLP model.\n",
    "hp.values[\"objective\"] = \"mlp\"\n",
    "model = build_model(hp)\n",
    "\n",
    "model.summary()"
   ]
  },
  {
   "cell_type": "code",
   "execution_count": null,
   "metadata": {},
   "outputs": [],
   "source": [
    "tuner = kt.RandomSearch(\n",
    "    build_model,\n",
    "    overwrite=True,\n",
    "    objective=\"val_accuracy\",\n",
    "    # Set a directory to store the intermediate results.\n",
    "    directory=\"my_dir\",\n",
    "    project_name='kdd_f'\n",
    ")"
   ]
  },
  {
   "cell_type": "code",
   "execution_count": null,
   "metadata": {},
   "outputs": [],
   "source": [
    "stop_early = tf.keras.callbacks.EarlyStopping(monitor='val_loss', patience=5)"
   ]
  },
  {
   "cell_type": "code",
   "execution_count": null,
   "metadata": {},
   "outputs": [],
   "source": [
    "import datetime\n",
    "log_dir = \"logs/fit/\" + datetime.datetime.now().strftime(\"%Y%m%d-%H%M%S\")\n",
    "tensorboard_callback = tf.keras.callbacks.TensorBoard(log_dir=log_dir, histogram_freq=1)"
   ]
  },
  {
   "cell_type": "code",
   "execution_count": null,
   "metadata": {},
   "outputs": [],
   "source": [
    "%load_ext tensorboard\n",
    "%tensorboard --logdir logs/fit\n"
   ]
  },
  {
   "cell_type": "code",
   "execution_count": null,
   "metadata": {},
   "outputs": [],
   "source": [
    "\n",
    "tuner.search(\n",
    "    train_embeddings,\n",
    "    y_train_one_hot, \n",
    "    epochs=5, \n",
    "    validation_data=(val_embeddings, y_val_one_hot), \n",
    "    callbacks=[stop_early, tensorboard_callback]\n",
    "    )\n",
    "\n",
    "# Get the optimal hyperparameters\n",
    "best_hps=tuner.get_best_hyperparameters(num_trials=1)[0]\n",
    "\n",
    "print(f\"\"\"\n",
    "The hyperparameter search is complete. The optimal number of units in the first densely-connected\n",
    "layer is {best_hps.get('units')} and the optimal learning rate for the optimizer\n",
    "is {best_hps.get('learning_rate')}.\n",
    "\"\"\")"
   ]
  },
  {
   "cell_type": "code",
   "execution_count": null,
   "metadata": {},
   "outputs": [],
   "source": [
    "model = tuner.hypermodel.build(best_hps)\n",
    "model.summary()\n"
   ]
  },
  {
   "cell_type": "code",
   "execution_count": null,
   "metadata": {},
   "outputs": [],
   "source": [
    "history = model.fit(train_embeddings, y_train_one_hot, epochs=20, validation_data=(val_embeddings, y_val_one_hot))\n",
    "\n",
    "val_loss_per_epoch = history.history['val_loss']\n",
    "best_epoch = val_loss_per_epoch.index(max(val_loss_per_epoch)) + 1\n",
    "print('Best epoch: %d' % (best_epoch,))"
   ]
  },
  {
   "cell_type": "code",
   "execution_count": null,
   "metadata": {},
   "outputs": [],
   "source": [
    "from matplotlib import pyplot as plt\n",
    "\n",
    "fig1, ax1 = plt.subplots()\n",
    "ax1.plot(history.history['loss'])\n",
    "ax1.plot(history.history['val_loss'])\n",
    "ax1.set_title('model loss')\n",
    "# ax1.set_ylim(0.95,1)\n",
    "ax1.set_ylabel('loss')\n",
    "ax1.set_xlabel('epoch')\n",
    "ax1.legend(['train', 'val'], loc='upper left')\n",
    "plt.show()"
   ]
  },
  {
   "cell_type": "code",
   "execution_count": null,
   "metadata": {},
   "outputs": [],
   "source": [
    "hypermodel = tuner.hypermodel.build(best_hps)\n",
    "hypermodel.summary()"
   ]
  },
  {
   "cell_type": "code",
   "execution_count": null,
   "metadata": {},
   "outputs": [],
   "source": [
    "fig, ax = plt.subplots()\n",
    "ax.plot(history.history['accuracy'])\n",
    "ax.plot(history.history['val_accuracy'])\n",
    "ax.set_title('model accuracy')\n",
    "ax.set_ylim(0.95,1)\n",
    "ax.set_ylabel('accuracy')\n",
    "ax.set_xlabel('epoch')\n",
    "ax.legend(['train', 'val'], loc='upper left')\n",
    "plt.show()\n"
   ]
  },
  {
   "cell_type": "code",
   "execution_count": null,
   "metadata": {},
   "outputs": [],
   "source": []
  },
  {
   "cell_type": "code",
   "execution_count": null,
   "metadata": {},
   "outputs": [],
   "source": [
    "# Retrain the model\n",
    "hypermodel.fit(train_embeddings, y_train_one_hot, epochs=7, validation_data=(val_embeddings, y_val_one_hot))"
   ]
  },
  {
   "cell_type": "code",
   "execution_count": null,
   "metadata": {},
   "outputs": [],
   "source": [
    "eval_result = hypermodel.evaluate(test_embeddings, y_test_one_hot)\n",
    "print(\"[test loss, test accuracy]:\", eval_result)"
   ]
  },
  {
   "cell_type": "code",
   "execution_count": null,
   "metadata": {},
   "outputs": [],
   "source": [
    "y_pred = hypermodel.predict(test_embeddings)"
   ]
  },
  {
   "cell_type": "code",
   "execution_count": null,
   "metadata": {},
   "outputs": [],
   "source": [
    "y_pred_th = np.where(y_pred > 0.9, 1, 0)"
   ]
  },
  {
   "cell_type": "code",
   "execution_count": null,
   "metadata": {},
   "outputs": [],
   "source": [
    "y_pred_th.shape, y_test_one_hot.shape"
   ]
  },
  {
   "cell_type": "code",
   "execution_count": null,
   "metadata": {},
   "outputs": [],
   "source": [
    "y_pred_th.sum(1).max()"
   ]
  },
  {
   "cell_type": "code",
   "execution_count": null,
   "metadata": {},
   "outputs": [],
   "source": [
    "y_pred_eval =y_pred.argmax(1)"
   ]
  },
  {
   "cell_type": "code",
   "execution_count": null,
   "metadata": {},
   "outputs": [],
   "source": [
    "from sklearn.metrics import accuracy_score, ConfusionMatrixDisplay\n",
    "ConfusionMatrixDisplay.from_predictions(y_test, y_pred_eval,)"
   ]
  },
  {
   "cell_type": "code",
   "execution_count": null,
   "metadata": {},
   "outputs": [],
   "source": [
    "# history = model.fit(train_embeddings, y_train_one_hot, epochs=10, validation_data=(val_embeddings, y_val_one_hot))"
   ]
  },
  {
   "cell_type": "code",
   "execution_count": null,
   "metadata": {},
   "outputs": [],
   "source": [
    "from sklearn.metrics import classification_report\n",
    "\n",
    "print(classification_report(y_test, y_pred_eval, target_names=['']))"
   ]
  },
  {
   "cell_type": "code",
   "execution_count": null,
   "metadata": {},
   "outputs": [],
   "source": [
    "print(classification_report(y_test, y_pred_eval, target_names=['Agent', 'Device', 'Event', 'Place', 'Species', 'SportsSeason', 'TopicalConcept','UnitOfWork', 'Work']))\n",
    "# df_test.groupby(['label_l1','l1']).size().reset_index().rename(columns={0:'count' })"
   ]
  },
  {
   "cell_type": "code",
   "execution_count": null,
   "metadata": {},
   "outputs": [],
   "source": []
  },
  {
   "cell_type": "code",
   "execution_count": null,
   "metadata": {},
   "outputs": [],
   "source": [
    "from matplotlib import pyplot as plt\n"
   ]
  },
  {
   "cell_type": "code",
   "execution_count": null,
   "metadata": {},
   "outputs": [],
   "source": [
    "fig, ax = plt.subplots()\n",
    "ax.plot(history.history['accuracy'])\n",
    "ax.plot(history.history['val_accuracy'])\n",
    "ax.set_title('model accuracy')\n",
    "ax.set_ylim(0.95,1)\n",
    "ax.set_ylabel('accuracy')\n",
    "ax.set_xlabel('epoch')\n",
    "ax.legend(['train', 'val'], loc='upper left')\n",
    "plt.show()\n"
   ]
  },
  {
   "cell_type": "code",
   "execution_count": null,
   "metadata": {},
   "outputs": [],
   "source": [
    "\n",
    "fig1, ax1 = plt.subplots()\n",
    "ax1.plot(history.history['loss'])\n",
    "ax1.plot(history.history['val_loss'])\n",
    "ax1.set_title('model loss')\n",
    "# ax1.set_ylim(0.95,1)\n",
    "ax1.set_ylabel('loss')\n",
    "ax1.set_xlabel('epoch')\n",
    "ax1.legend(['train', 'val'], loc='upper left')\n",
    "plt.show()\n"
   ]
  },
  {
   "cell_type": "code",
   "execution_count": null,
   "metadata": {},
   "outputs": [],
   "source": [
    "plt.plot(history.history['loss'])\n",
    "plt.plot(history.history['val_loss'])\n",
    "plt.title('model loss')\n",
    "plt.ylabel('loss')\n",
    "plt.xlabel('epoch')\n",
    "plt.legend(['train', 'val'], loc='upper left')\n",
    "plt.show()"
   ]
  },
  {
   "cell_type": "code",
   "execution_count": null,
   "metadata": {},
   "outputs": [],
   "source": [
    "\n",
    "results = model.evaluate(test_embeddings, y_test_one_hot, batch_size=128)\n",
    "print(\"test loss, test acc:\", results)"
   ]
  },
  {
   "cell_type": "code",
   "execution_count": null,
   "metadata": {},
   "outputs": [],
   "source": [
    "%load_ext tensorboard\n",
    "%tensorboard --logdir /my_dir/kdd"
   ]
  },
  {
   "cell_type": "code",
   "execution_count": null,
   "metadata": {},
   "outputs": [],
   "source": [
    "## SVM\n",
    "\n",
    "from files import read_training_data, read_test_data, read_val_data\n",
    "from pre_process import under_sample, encode_label\n",
    "from embeddings import create_embedding\n",
    "from models import bert_model_and_tokenizer\n",
    "from classifications import logisticRegression\n",
    "from sklearn.metrics import accuracy_score, ConfusionMatrixDisplay, classification_report, confusion_matrix\n",
    "import matplotlib.pyplot as plt\n",
    "from sklearn import svm\n",
    "\n",
    "import numpy as np\n",
    "\n",
    "\n",
    "\n",
    "print('checkpoint 1: Loading data')\n",
    "df_train = read_training_data()\n",
    "df_test = read_test_data()\n",
    "df_val = read_val_data()\n",
    "\n",
    "\n",
    "    \n",
    "df_train, df_test, df_val, LE = encode_label(\n",
    "    df_train=df_train,\n",
    "    df_test=df_test,\n",
    "    df_val=df_val,\n",
    "    source_label=\"l1\",\n",
    "    new_label_name=\"label_l1\",\n",
    ")\n",
    "    \n",
    "labels = LE.inverse_transform([0,1,2,3,4,5,6,7,8])\n",
    "    \n",
    "\n",
    "    \n",
    "print('loading embeddings')\n",
    "train_embeddings = np.load('under_sampled_embeddings.npy')\n",
    "test_embeddings = np.load('test_embeddings.npy')\n",
    "\n",
    "print('checkpoint 5: getting labels')\n",
    "y_train = df_train[\"label_l1\"]\n",
    "y_test = df_test[\"label_l1\"]\n",
    "\n",
    "print('checkpoint 6: Running the classification model')\n",
    "    \n",
    "    \n",
    "\n",
    "    # y_pred = logisticRegression(\n",
    "    #     x_train=train_embeddings, x_test=test_embeddings, y_train=y_train, y_test=y_test\n",
    "    # )\n",
    "    \n",
    "    \n"
   ]
  },
  {
   "cell_type": "code",
   "execution_count": null,
   "metadata": {},
   "outputs": [],
   "source": [
    "svm_clf = svm.SVC().fit(train_embeddings, y_train)\n",
    "y_pred = svm_clf.predict(test_embeddings)"
   ]
  },
  {
   "cell_type": "code",
   "execution_count": null,
   "metadata": {},
   "outputs": [],
   "source": [
    "accuracy = accuracy_score(y_pred=y_pred, y_true=y_test)\n",
    "# confusion = confusion_matrix(y_pred=y_pred, y_true= y_test)\n",
    "\n",
    "print(accuracy)\n",
    "# ConfusionMatrixDisplay.from_predictions(y_test, y_pred, )\n",
    "\n",
    "cm = confusion_matrix(y_pred=y_pred, y_true= y_test, labels= svm_clf.classes_)\n",
    "print(accuracy)\n",
    "disp = ConfusionMatrixDisplay(confusion_matrix=cm)\n",
    "disp.plot()\n",
    "disp.ax_.set_title(\"Confusion matrix for svm\")\n",
    "disp.ax_.xaxis.set_ticklabels(labels,  rotation = 90) \n",
    "disp.ax_.yaxis.set_ticklabels(labels)\n",
    "# disp.ax_.set_xticklabels(disp.ax_.get_xticks(), rotation = 45)\n",
    "plt.show()\n",
    "print(classification_report(y_test, y_pred, target_names= labels))  \n",
    "plt.show()\n",
    "\n"
   ]
  },
  {
   "cell_type": "code",
   "execution_count": null,
   "metadata": {},
   "outputs": [],
   "source": [
    "from sklearn.ensemble import RandomForestClassifier\n",
    "\n",
    "rf_clf = RandomForestClassifier(max_depth=5, random_state=0).fit(train_embeddings, y_train)"
   ]
  },
  {
   "cell_type": "code",
   "execution_count": null,
   "metadata": {},
   "outputs": [],
   "source": [
    "rf_clf_predicted_label = rf_clf.predict(test_embeddings)\n",
    "\n",
    "accuracy_rf = accuracy_score(y_pred=rf_clf_predicted_label, y_true=y_test)\n",
    "# confusion = confusion_matrix(y_pred=y_pred, y_true= y_test)\n",
    "\n",
    "print(accuracy_rf)\n",
    "# ConfusionMatrixDisplay.from_predictions(y_test, y_pred, )\n",
    "\n",
    "cm_rf = confusion_matrix(y_pred=rf_clf_predicted_label, y_true= y_test, labels= rf_clf.classes_)\n",
    "# print(accuracy)\n",
    "disp = ConfusionMatrixDisplay(confusion_matrix=cm_rf)\n",
    "disp.plot()\n",
    "disp.ax_.set_title(\"Confusion matrix for random forest\")\n",
    "disp.ax_.xaxis.set_ticklabels(labels,  rotation = 90) \n",
    "disp.ax_.yaxis.set_ticklabels(labels)\n",
    "# disp.ax_.set_xticklabels(disp.ax_.get_xticks(), rotation = 45)\n",
    "plt.show()\n",
    "print(classification_report(y_test, rf_clf_predicted_label, target_names= labels))  \n",
    "plt.show()"
   ]
  },
  {
   "cell_type": "code",
   "execution_count": null,
   "metadata": {},
   "outputs": [],
   "source": []
  }
 ],
 "metadata": {
  "kernelspec": {
   "display_name": "Python 3.9.0 ('dbpedia')",
   "language": "python",
   "name": "python3"
  },
  "language_info": {
   "codemirror_mode": {
    "name": "ipython",
    "version": 3
   },
   "file_extension": ".py",
   "mimetype": "text/x-python",
   "name": "python",
   "nbconvert_exporter": "python",
   "pygments_lexer": "ipython3",
   "version": "3.9.0"
  },
  "orig_nbformat": 4,
  "vscode": {
   "interpreter": {
    "hash": "bab44116e0020a510287c75337948f003e1bd1c205bcd2ca1352010617859c69"
   }
  }
 },
 "nbformat": 4,
 "nbformat_minor": 2
}
